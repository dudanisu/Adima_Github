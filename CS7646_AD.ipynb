{
  "nbformat": 4,
  "nbformat_minor": 0,
  "metadata": {
    "colab": {
      "name": "Untitled1.ipynb",
      "provenance": [],
      "authorship_tag": "ABX9TyNklcn5Jfll1zzlDrJGplSP",
      "include_colab_link": true
    },
    "kernelspec": {
      "name": "python3",
      "display_name": "Python 3"
    },
    "language_info": {
      "name": "python"
    }
  },
  "cells": [
    {
      "cell_type": "markdown",
      "metadata": {
        "id": "view-in-github",
        "colab_type": "text"
      },
      "source": [
        "<a href=\"https://colab.research.google.com/github/dudanisu/Adima_Github/blob/master/CS7646_AD.ipynb\" target=\"_parent\"><img src=\"https://colab.research.google.com/assets/colab-badge.svg\" alt=\"Open In Colab\"/></a>"
      ]
    },
    {
      "cell_type": "code",
      "metadata": {
        "id": "AfZE_YpnSFXs"
      },
      "source": [
        "url = 'https://launchpad.net/~mario-mariomedina/+archive/ubuntu/talib/+files'\n",
        "!wget $url/libta-lib0_0.4.0-oneiric1_amd64.deb -qO libta.deb\n",
        "!wget $url/ta-lib0-dev_0.4.0-oneiric1_amd64.deb -qO ta.deb\n",
        "!dpkg -i libta.deb ta.deb\n",
        "!pip install ta-lib\n",
        "import talib"
      ],
      "execution_count": null,
      "outputs": []
    },
    {
      "cell_type": "code",
      "metadata": {
        "id": "_N1XVu8ASgoR"
      },
      "source": [
        "! pip install --upgrade Cython\n",
        "! pip install --upgrade git+https://github.com/statsmodels/statsmodels\n",
        "import statsmodels.api as sm"
      ],
      "execution_count": null,
      "outputs": []
    }
  ]
}